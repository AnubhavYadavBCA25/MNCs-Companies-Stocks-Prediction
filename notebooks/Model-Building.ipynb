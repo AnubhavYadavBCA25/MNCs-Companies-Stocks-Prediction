{
 "cells": [
  {
   "cell_type": "markdown",
   "metadata": {},
   "source": [
    "# Model Building for Stock Prediction"
   ]
  },
  {
   "cell_type": "markdown",
   "metadata": {},
   "source": [
    "### Import Libraries and Algorithms"
   ]
  },
  {
   "cell_type": "code",
   "execution_count": 2,
   "metadata": {},
   "outputs": [],
   "source": [
    "import numpy as np\n",
    "import pandas as pd\n",
    "import matplotlib.pyplot as plt\n",
    "import seaborn as sns\n",
    "%matplotlib inline\n",
    "\n",
    "from sklearn.preprocessing import StandardScaler\n",
    "from sklearn.model_selection import train_test_split\n",
    "from sklearn.ensemble import RandomForestRegressor\n",
    "from sklearn.metrics import r2_score, mean_absolute_error, mean_squared_error\n",
    "from xgboost import XGBRegressor\n",
    "\n",
    "from statsmodels.tsa.arima.model import ARIMA\n",
    "\n",
    "import tensorflow as tf\n",
    "from tensorflow.keras.models import Sequential\n",
    "from tensorflow.keras.layers import LSTM, Dense, Dropout\n",
    "from tensorflow.keras.optimizers import Adam\n",
    "\n",
    "import torch\n",
    "import torch.nn as nn\n",
    "import torch.optim as optim\n",
    "\n",
    "from sklearn.model_selection import GridSearchCV\n",
    "\n",
    "import warnings\n",
    "warnings.filterwarnings('ignore')"
   ]
  },
  {
   "cell_type": "markdown",
   "metadata": {},
   "source": [
    "### Load All Datasets"
   ]
  },
  {
   "cell_type": "code",
   "execution_count": 4,
   "metadata": {},
   "outputs": [],
   "source": [
    "df_amazon = pd.read_csv('preprocessed_data/Amazon Data Cleaned.csv')\n",
    "df_apple = pd.read_csv('preprocessed_data/Apple Data Cleaned.csv')\n",
    "df_google = pd.read_csv('preprocessed_data/Google Data Cleaned.csv')\n",
    "df_meta = pd.read_csv('preprocessed_data/Meta Data Cleaned.csv')\n",
    "df_micro = pd.read_csv('preprocessed_data/Microsoft Data Cleaned.csv')\n",
    "df_netflix = pd.read_csv('preprocessed_data/Netflix Data Cleaned.csv')\n",
    "df_nvidia = pd.read_csv('preprocessed_data/Nvidia Data Cleaned.csv')\n",
    "\n",
    "df_amazon['Date'] = pd.to_datetime(df_amazon['Date'])\n",
    "df_apple['Date'] = pd.to_datetime(df_apple['Date'])\n",
    "df_google['Date'] = pd.to_datetime(df_google['Date'])\n",
    "df_meta['Date'] = pd.to_datetime(df_meta['Date'])\n",
    "df_micro['Date'] = pd.to_datetime(df_micro['Date'])\n",
    "df_netflix['Date'] = pd.to_datetime(df_netflix['Date'])\n",
    "df_nvidia['Date'] = pd.to_datetime(df_nvidia['Date'])"
   ]
  },
  {
   "cell_type": "code",
   "execution_count": null,
   "metadata": {},
   "outputs": [],
   "source": []
  }
 ],
 "metadata": {
  "kernelspec": {
   "display_name": "Python 3",
   "language": "python",
   "name": "python3"
  },
  "language_info": {
   "codemirror_mode": {
    "name": "ipython",
    "version": 3
   },
   "file_extension": ".py",
   "mimetype": "text/x-python",
   "name": "python",
   "nbconvert_exporter": "python",
   "pygments_lexer": "ipython3",
   "version": "3.12.8"
  }
 },
 "nbformat": 4,
 "nbformat_minor": 2
}
